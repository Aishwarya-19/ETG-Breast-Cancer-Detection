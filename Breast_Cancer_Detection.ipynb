{
  "nbformat": 4,
  "nbformat_minor": 0,
  "metadata": {
    "colab": {
      "name": "Breast Cancer Detection.ipynb",
      "provenance": [],
      "collapsed_sections": []
    },
    "kernelspec": {
      "name": "python3",
      "display_name": "Python 3"
    },
    "language_info": {
      "name": "python"
    }
  },
  "cells": [
    {
      "cell_type": "code",
      "metadata": {
        "id": "jiF3vsogWVHm"
      },
      "source": [
        "import pandas as pd\n",
        "import numpy as np\n",
        "\n",
        "from sklearn.datasets import load_breast_cancer\n",
        "from sklearn.preprocessing import StandardScaler\n",
        "\n",
        "from keras.models import Sequential\n",
        "from keras.layers import Dense"
      ],
      "execution_count": 1,
      "outputs": []
    },
    {
      "cell_type": "code",
      "metadata": {
        "id": "M2L3jeg7Wllj"
      },
      "source": [
        "data = load_breast_cancer()"
      ],
      "execution_count": 2,
      "outputs": []
    },
    {
      "cell_type": "code",
      "metadata": {
        "colab": {
          "base_uri": "https://localhost:8080/"
        },
        "id": "ValltCwxWlpU",
        "outputId": "eee51c3f-2a6b-42c6-a190-21505cdd5259"
      },
      "source": [
        "data.keys()"
      ],
      "execution_count": 3,
      "outputs": [
        {
          "output_type": "execute_result",
          "data": {
            "text/plain": [
              "dict_keys(['data', 'target', 'target_names', 'DESCR', 'feature_names', 'filename'])"
            ]
          },
          "metadata": {},
          "execution_count": 3
        }
      ]
    },
    {
      "cell_type": "code",
      "metadata": {
        "colab": {
          "base_uri": "https://localhost:8080/"
        },
        "id": "iCSzAnowW3oQ",
        "outputId": "811ee28a-2c97-4f93-f775-4e257b0123d6"
      },
      "source": [
        "print(data['DESCR'])"
      ],
      "execution_count": 4,
      "outputs": [
        {
          "output_type": "stream",
          "name": "stdout",
          "text": [
            ".. _breast_cancer_dataset:\n",
            "\n",
            "Breast cancer wisconsin (diagnostic) dataset\n",
            "--------------------------------------------\n",
            "\n",
            "**Data Set Characteristics:**\n",
            "\n",
            "    :Number of Instances: 569\n",
            "\n",
            "    :Number of Attributes: 30 numeric, predictive attributes and the class\n",
            "\n",
            "    :Attribute Information:\n",
            "        - radius (mean of distances from center to points on the perimeter)\n",
            "        - texture (standard deviation of gray-scale values)\n",
            "        - perimeter\n",
            "        - area\n",
            "        - smoothness (local variation in radius lengths)\n",
            "        - compactness (perimeter^2 / area - 1.0)\n",
            "        - concavity (severity of concave portions of the contour)\n",
            "        - concave points (number of concave portions of the contour)\n",
            "        - symmetry \n",
            "        - fractal dimension (\"coastline approximation\" - 1)\n",
            "\n",
            "        The mean, standard error, and \"worst\" or largest (mean of the three\n",
            "        largest values) of these features were computed for each image,\n",
            "        resulting in 30 features.  For instance, field 3 is Mean Radius, field\n",
            "        13 is Radius SE, field 23 is Worst Radius.\n",
            "\n",
            "        - class:\n",
            "                - WDBC-Malignant\n",
            "                - WDBC-Benign\n",
            "\n",
            "    :Summary Statistics:\n",
            "\n",
            "    ===================================== ====== ======\n",
            "                                           Min    Max\n",
            "    ===================================== ====== ======\n",
            "    radius (mean):                        6.981  28.11\n",
            "    texture (mean):                       9.71   39.28\n",
            "    perimeter (mean):                     43.79  188.5\n",
            "    area (mean):                          143.5  2501.0\n",
            "    smoothness (mean):                    0.053  0.163\n",
            "    compactness (mean):                   0.019  0.345\n",
            "    concavity (mean):                     0.0    0.427\n",
            "    concave points (mean):                0.0    0.201\n",
            "    symmetry (mean):                      0.106  0.304\n",
            "    fractal dimension (mean):             0.05   0.097\n",
            "    radius (standard error):              0.112  2.873\n",
            "    texture (standard error):             0.36   4.885\n",
            "    perimeter (standard error):           0.757  21.98\n",
            "    area (standard error):                6.802  542.2\n",
            "    smoothness (standard error):          0.002  0.031\n",
            "    compactness (standard error):         0.002  0.135\n",
            "    concavity (standard error):           0.0    0.396\n",
            "    concave points (standard error):      0.0    0.053\n",
            "    symmetry (standard error):            0.008  0.079\n",
            "    fractal dimension (standard error):   0.001  0.03\n",
            "    radius (worst):                       7.93   36.04\n",
            "    texture (worst):                      12.02  49.54\n",
            "    perimeter (worst):                    50.41  251.2\n",
            "    area (worst):                         185.2  4254.0\n",
            "    smoothness (worst):                   0.071  0.223\n",
            "    compactness (worst):                  0.027  1.058\n",
            "    concavity (worst):                    0.0    1.252\n",
            "    concave points (worst):               0.0    0.291\n",
            "    symmetry (worst):                     0.156  0.664\n",
            "    fractal dimension (worst):            0.055  0.208\n",
            "    ===================================== ====== ======\n",
            "\n",
            "    :Missing Attribute Values: None\n",
            "\n",
            "    :Class Distribution: 212 - Malignant, 357 - Benign\n",
            "\n",
            "    :Creator:  Dr. William H. Wolberg, W. Nick Street, Olvi L. Mangasarian\n",
            "\n",
            "    :Donor: Nick Street\n",
            "\n",
            "    :Date: November, 1995\n",
            "\n",
            "This is a copy of UCI ML Breast Cancer Wisconsin (Diagnostic) datasets.\n",
            "https://goo.gl/U2Uwz2\n",
            "\n",
            "Features are computed from a digitized image of a fine needle\n",
            "aspirate (FNA) of a breast mass.  They describe\n",
            "characteristics of the cell nuclei present in the image.\n",
            "\n",
            "Separating plane described above was obtained using\n",
            "Multisurface Method-Tree (MSM-T) [K. P. Bennett, \"Decision Tree\n",
            "Construction Via Linear Programming.\" Proceedings of the 4th\n",
            "Midwest Artificial Intelligence and Cognitive Science Society,\n",
            "pp. 97-101, 1992], a classification method which uses linear\n",
            "programming to construct a decision tree.  Relevant features\n",
            "were selected using an exhaustive search in the space of 1-4\n",
            "features and 1-3 separating planes.\n",
            "\n",
            "The actual linear program used to obtain the separating plane\n",
            "in the 3-dimensional space is that described in:\n",
            "[K. P. Bennett and O. L. Mangasarian: \"Robust Linear\n",
            "Programming Discrimination of Two Linearly Inseparable Sets\",\n",
            "Optimization Methods and Software 1, 1992, 23-34].\n",
            "\n",
            "This database is also available through the UW CS ftp server:\n",
            "\n",
            "ftp ftp.cs.wisc.edu\n",
            "cd math-prog/cpo-dataset/machine-learn/WDBC/\n",
            "\n",
            ".. topic:: References\n",
            "\n",
            "   - W.N. Street, W.H. Wolberg and O.L. Mangasarian. Nuclear feature extraction \n",
            "     for breast tumor diagnosis. IS&T/SPIE 1993 International Symposium on \n",
            "     Electronic Imaging: Science and Technology, volume 1905, pages 861-870,\n",
            "     San Jose, CA, 1993.\n",
            "   - O.L. Mangasarian, W.N. Street and W.H. Wolberg. Breast cancer diagnosis and \n",
            "     prognosis via linear programming. Operations Research, 43(4), pages 570-577, \n",
            "     July-August 1995.\n",
            "   - W.H. Wolberg, W.N. Street, and O.L. Mangasarian. Machine learning techniques\n",
            "     to diagnose breast cancer from fine-needle aspirates. Cancer Letters 77 (1994) \n",
            "     163-171.\n"
          ]
        }
      ]
    },
    {
      "cell_type": "code",
      "metadata": {
        "colab": {
          "base_uri": "https://localhost:8080/"
        },
        "id": "DGysqAm-W7r4",
        "outputId": "36d628b5-8ca9-4387-faa2-e29179e1cd8a"
      },
      "source": [
        "data['data'].shape"
      ],
      "execution_count": 5,
      "outputs": [
        {
          "output_type": "execute_result",
          "data": {
            "text/plain": [
              "(569, 30)"
            ]
          },
          "metadata": {},
          "execution_count": 5
        }
      ]
    },
    {
      "cell_type": "code",
      "metadata": {
        "colab": {
          "base_uri": "https://localhost:8080/"
        },
        "id": "qhTy_jEQXBMY",
        "outputId": "668fb436-bd6a-4723-e13d-84dae31e0cd6"
      },
      "source": [
        "data['feature_names']"
      ],
      "execution_count": 6,
      "outputs": [
        {
          "output_type": "execute_result",
          "data": {
            "text/plain": [
              "array(['mean radius', 'mean texture', 'mean perimeter', 'mean area',\n",
              "       'mean smoothness', 'mean compactness', 'mean concavity',\n",
              "       'mean concave points', 'mean symmetry', 'mean fractal dimension',\n",
              "       'radius error', 'texture error', 'perimeter error', 'area error',\n",
              "       'smoothness error', 'compactness error', 'concavity error',\n",
              "       'concave points error', 'symmetry error',\n",
              "       'fractal dimension error', 'worst radius', 'worst texture',\n",
              "       'worst perimeter', 'worst area', 'worst smoothness',\n",
              "       'worst compactness', 'worst concavity', 'worst concave points',\n",
              "       'worst symmetry', 'worst fractal dimension'], dtype='<U23')"
            ]
          },
          "metadata": {},
          "execution_count": 6
        }
      ]
    },
    {
      "cell_type": "code",
      "metadata": {
        "colab": {
          "base_uri": "https://localhost:8080/"
        },
        "id": "zuUXMsScXEoN",
        "outputId": "e504b9b7-726c-427a-854f-e526391ed4dd"
      },
      "source": [
        "data['data'][0]"
      ],
      "execution_count": 7,
      "outputs": [
        {
          "output_type": "execute_result",
          "data": {
            "text/plain": [
              "array([1.799e+01, 1.038e+01, 1.228e+02, 1.001e+03, 1.184e-01, 2.776e-01,\n",
              "       3.001e-01, 1.471e-01, 2.419e-01, 7.871e-02, 1.095e+00, 9.053e-01,\n",
              "       8.589e+00, 1.534e+02, 6.399e-03, 4.904e-02, 5.373e-02, 1.587e-02,\n",
              "       3.003e-02, 6.193e-03, 2.538e+01, 1.733e+01, 1.846e+02, 2.019e+03,\n",
              "       1.622e-01, 6.656e-01, 7.119e-01, 2.654e-01, 4.601e-01, 1.189e-01])"
            ]
          },
          "metadata": {},
          "execution_count": 7
        }
      ]
    },
    {
      "cell_type": "code",
      "metadata": {
        "colab": {
          "base_uri": "https://localhost:8080/"
        },
        "id": "e29omfvDXJYo",
        "outputId": "684829b5-5d5a-44f0-ce36-8ffc65a44079"
      },
      "source": [
        "j = 0\n",
        "for i in data['feature_names']:\n",
        "  print(i,\":\",data['data'][0][j])\n",
        "  j+=1"
      ],
      "execution_count": 8,
      "outputs": [
        {
          "output_type": "stream",
          "name": "stdout",
          "text": [
            "mean radius : 17.99\n",
            "mean texture : 10.38\n",
            "mean perimeter : 122.8\n",
            "mean area : 1001.0\n",
            "mean smoothness : 0.1184\n",
            "mean compactness : 0.2776\n",
            "mean concavity : 0.3001\n",
            "mean concave points : 0.1471\n",
            "mean symmetry : 0.2419\n",
            "mean fractal dimension : 0.07871\n",
            "radius error : 1.095\n",
            "texture error : 0.9053\n",
            "perimeter error : 8.589\n",
            "area error : 153.4\n",
            "smoothness error : 0.006399\n",
            "compactness error : 0.04904\n",
            "concavity error : 0.05373\n",
            "concave points error : 0.01587\n",
            "symmetry error : 0.03003\n",
            "fractal dimension error : 0.006193\n",
            "worst radius : 25.38\n",
            "worst texture : 17.33\n",
            "worst perimeter : 184.6\n",
            "worst area : 2019.0\n",
            "worst smoothness : 0.1622\n",
            "worst compactness : 0.6656\n",
            "worst concavity : 0.7119\n",
            "worst concave points : 0.2654\n",
            "worst symmetry : 0.4601\n",
            "worst fractal dimension : 0.1189\n"
          ]
        }
      ]
    },
    {
      "cell_type": "code",
      "metadata": {
        "id": "CkEk2rRVXMau"
      },
      "source": [
        "feature = data['data']"
      ],
      "execution_count": 9,
      "outputs": []
    },
    {
      "cell_type": "code",
      "metadata": {
        "id": "ZU4lC-FOXbBc"
      },
      "source": [
        "label = data['target']"
      ],
      "execution_count": 10,
      "outputs": []
    },
    {
      "cell_type": "code",
      "metadata": {
        "colab": {
          "base_uri": "https://localhost:8080/"
        },
        "id": "b_I77PNjXd_l",
        "outputId": "750551ea-ccf5-495e-ffec-a019de55fd99"
      },
      "source": [
        "data['target_names']"
      ],
      "execution_count": 11,
      "outputs": [
        {
          "output_type": "execute_result",
          "data": {
            "text/plain": [
              "array(['malignant', 'benign'], dtype='<U9')"
            ]
          },
          "metadata": {},
          "execution_count": 11
        }
      ]
    },
    {
      "cell_type": "code",
      "metadata": {
        "colab": {
          "base_uri": "https://localhost:8080/"
        },
        "id": "TQnDm5_MXhKe",
        "outputId": "ef57ed75-0bc4-4c49-d661-d21714a2f61b"
      },
      "source": [
        "feature.shape"
      ],
      "execution_count": 12,
      "outputs": [
        {
          "output_type": "execute_result",
          "data": {
            "text/plain": [
              "(569, 30)"
            ]
          },
          "metadata": {},
          "execution_count": 12
        }
      ]
    },
    {
      "cell_type": "code",
      "metadata": {
        "colab": {
          "base_uri": "https://localhost:8080/"
        },
        "id": "z665l6e3XmQo",
        "outputId": "990e6e92-9b99-41bf-fcbe-ccb532e57f87"
      },
      "source": [
        "label.shape"
      ],
      "execution_count": 13,
      "outputs": [
        {
          "output_type": "execute_result",
          "data": {
            "text/plain": [
              "(569,)"
            ]
          },
          "metadata": {},
          "execution_count": 13
        }
      ]
    },
    {
      "cell_type": "code",
      "metadata": {
        "id": "3SocS_KcY4EW"
      },
      "source": [
        "scale = StandardScaler()\n",
        "\n",
        "feature = scale.fit_transform(feature)"
      ],
      "execution_count": 14,
      "outputs": []
    },
    {
      "cell_type": "code",
      "metadata": {
        "colab": {
          "base_uri": "https://localhost:8080/"
        },
        "id": "4OF1olUoY7OM",
        "outputId": "9d55da4f-3df9-4c97-cc05-31a74f761663"
      },
      "source": [
        "j = 0\n",
        "for i in data['feature_names']:\n",
        "  print(i,\":\",feature[0][j])\n",
        "  j+=1"
      ],
      "execution_count": 15,
      "outputs": [
        {
          "output_type": "stream",
          "name": "stdout",
          "text": [
            "mean radius : 1.0970639814699807\n",
            "mean texture : -2.0733350146975935\n",
            "mean perimeter : 1.2699336881399383\n",
            "mean area : 0.9843749048031144\n",
            "mean smoothness : 1.568466329243428\n",
            "mean compactness : 3.2835146709868264\n",
            "mean concavity : 2.652873983743168\n",
            "mean concave points : 2.532475216403245\n",
            "mean symmetry : 2.2175150059646405\n",
            "mean fractal dimension : 2.255746885296269\n",
            "radius error : 2.4897339267376193\n",
            "texture error : -0.5652650590684639\n",
            "perimeter error : 2.833030865855184\n",
            "area error : 2.4875775569611043\n",
            "smoothness error : -0.21400164666895383\n",
            "compactness error : 1.3168615683959484\n",
            "concavity error : 0.72402615808036\n",
            "concave points error : 0.6608199414286064\n",
            "symmetry error : 1.1487566671861758\n",
            "fractal dimension error : 0.9070830809973359\n",
            "worst radius : 1.8866896251792757\n",
            "worst texture : -1.3592934737640827\n",
            "worst perimeter : 2.3036006236225606\n",
            "worst area : 2.0012374893299207\n",
            "worst smoothness : 1.3076862710715387\n",
            "worst compactness : 2.616665023512603\n",
            "worst concavity : 2.1095263465722556\n",
            "worst concave points : 2.296076127561788\n",
            "worst symmetry : 2.750622244124955\n",
            "worst fractal dimension : 1.9370146123781782\n"
          ]
        }
      ]
    },
    {
      "cell_type": "code",
      "metadata": {
        "colab": {
          "base_uri": "https://localhost:8080/"
        },
        "id": "ilVfXd2IY_bE",
        "outputId": "3805a6a5-935d-4069-fc45-5e2c6a736018"
      },
      "source": [
        "print(feature[568])\n",
        "print(data['target_names'][label[568]],label[568])"
      ],
      "execution_count": 16,
      "outputs": [
        {
          "output_type": "stream",
          "name": "stdout",
          "text": [
            "[-1.80840125  1.22179204 -1.81438851 -1.34778924 -3.11208479 -1.15075248\n",
            " -1.11487284 -1.26181958 -0.8200699  -0.56103238 -0.07027874  0.3830925\n",
            " -0.15744905 -0.46615196  0.04934236 -1.16351619 -1.05750068 -1.91344745\n",
            "  0.75282996 -0.382754   -1.41089258  0.76418957 -1.43273495 -1.07581292\n",
            " -1.85901852 -1.2075525  -1.30583065 -1.74506282 -0.04813821 -0.75120669]\n",
            "benign 1\n"
          ]
        }
      ]
    },
    {
      "cell_type": "code",
      "metadata": {
        "id": "TomsVhhtZEEl"
      },
      "source": [
        "df_frt = pd.DataFrame(feature , columns = data['feature_names'])\n",
        "df_lbl = pd.DataFrame(label , columns = ['label'])\n",
        "df = pd.concat([df_frt, df_lbl], axis=1)\n",
        "df = df.sample(frac = 1)\n",
        "\n",
        "feature = df.values[ : , : 30]\n",
        "label = df.values[ : ,30: ]"
      ],
      "execution_count": 17,
      "outputs": []
    },
    {
      "cell_type": "code",
      "metadata": {
        "colab": {
          "base_uri": "https://localhost:8080/",
          "height": 473
        },
        "id": "jfiv7b6DZJXK",
        "outputId": "d053d5bf-c5ee-4bc2-c193-718ce43ae80d"
      },
      "source": [
        "df"
      ],
      "execution_count": 18,
      "outputs": [
        {
          "output_type": "execute_result",
          "data": {
            "text/html": [
              "<div>\n",
              "<style scoped>\n",
              "    .dataframe tbody tr th:only-of-type {\n",
              "        vertical-align: middle;\n",
              "    }\n",
              "\n",
              "    .dataframe tbody tr th {\n",
              "        vertical-align: top;\n",
              "    }\n",
              "\n",
              "    .dataframe thead th {\n",
              "        text-align: right;\n",
              "    }\n",
              "</style>\n",
              "<table border=\"1\" class=\"dataframe\">\n",
              "  <thead>\n",
              "    <tr style=\"text-align: right;\">\n",
              "      <th></th>\n",
              "      <th>mean radius</th>\n",
              "      <th>mean texture</th>\n",
              "      <th>mean perimeter</th>\n",
              "      <th>mean area</th>\n",
              "      <th>mean smoothness</th>\n",
              "      <th>mean compactness</th>\n",
              "      <th>mean concavity</th>\n",
              "      <th>mean concave points</th>\n",
              "      <th>mean symmetry</th>\n",
              "      <th>mean fractal dimension</th>\n",
              "      <th>radius error</th>\n",
              "      <th>texture error</th>\n",
              "      <th>perimeter error</th>\n",
              "      <th>area error</th>\n",
              "      <th>smoothness error</th>\n",
              "      <th>compactness error</th>\n",
              "      <th>concavity error</th>\n",
              "      <th>concave points error</th>\n",
              "      <th>symmetry error</th>\n",
              "      <th>fractal dimension error</th>\n",
              "      <th>worst radius</th>\n",
              "      <th>worst texture</th>\n",
              "      <th>worst perimeter</th>\n",
              "      <th>worst area</th>\n",
              "      <th>worst smoothness</th>\n",
              "      <th>worst compactness</th>\n",
              "      <th>worst concavity</th>\n",
              "      <th>worst concave points</th>\n",
              "      <th>worst symmetry</th>\n",
              "      <th>worst fractal dimension</th>\n",
              "      <th>label</th>\n",
              "    </tr>\n",
              "  </thead>\n",
              "  <tbody>\n",
              "    <tr>\n",
              "      <th>415</th>\n",
              "      <td>-0.635423</td>\n",
              "      <td>0.437570</td>\n",
              "      <td>-0.641704</td>\n",
              "      <td>-0.628800</td>\n",
              "      <td>0.097477</td>\n",
              "      <td>-0.438556</td>\n",
              "      <td>-0.794093</td>\n",
              "      <td>-0.699769</td>\n",
              "      <td>0.757138</td>\n",
              "      <td>0.014515</td>\n",
              "      <td>-0.470901</td>\n",
              "      <td>-0.025135</td>\n",
              "      <td>-0.463378</td>\n",
              "      <td>-0.457791</td>\n",
              "      <td>0.951379</td>\n",
              "      <td>0.282346</td>\n",
              "      <td>-0.517041</td>\n",
              "      <td>-0.408791</td>\n",
              "      <td>0.246722</td>\n",
              "      <td>-0.576040</td>\n",
              "      <td>-0.666638</td>\n",
              "      <td>0.249603</td>\n",
              "      <td>-0.660388</td>\n",
              "      <td>-0.628776</td>\n",
              "      <td>0.448503</td>\n",
              "      <td>-0.226243</td>\n",
              "      <td>-0.747399</td>\n",
              "      <td>-0.486889</td>\n",
              "      <td>0.281889</td>\n",
              "      <td>-0.578309</td>\n",
              "      <td>1</td>\n",
              "    </tr>\n",
              "    <tr>\n",
              "      <th>276</th>\n",
              "      <td>-0.794471</td>\n",
              "      <td>-1.193704</td>\n",
              "      <td>-0.831178</td>\n",
              "      <td>-0.734601</td>\n",
              "      <td>-0.182915</td>\n",
              "      <td>-1.243615</td>\n",
              "      <td>-1.096204</td>\n",
              "      <td>-1.175848</td>\n",
              "      <td>0.519826</td>\n",
              "      <td>-0.650341</td>\n",
              "      <td>-0.605164</td>\n",
              "      <td>0.114570</td>\n",
              "      <td>-0.644064</td>\n",
              "      <td>-0.511475</td>\n",
              "      <td>0.461692</td>\n",
              "      <td>-0.921067</td>\n",
              "      <td>-1.008196</td>\n",
              "      <td>-1.372803</td>\n",
              "      <td>0.367800</td>\n",
              "      <td>-0.820013</td>\n",
              "      <td>-0.842658</td>\n",
              "      <td>-1.088973</td>\n",
              "      <td>-0.890335</td>\n",
              "      <td>-0.742864</td>\n",
              "      <td>-0.283557</td>\n",
              "      <td>-1.150045</td>\n",
              "      <td>-1.282059</td>\n",
              "      <td>-1.575895</td>\n",
              "      <td>-0.230947</td>\n",
              "      <td>-1.113072</td>\n",
              "      <td>1</td>\n",
              "    </tr>\n",
              "    <tr>\n",
              "      <th>566</th>\n",
              "      <td>0.702284</td>\n",
              "      <td>2.045574</td>\n",
              "      <td>0.672676</td>\n",
              "      <td>0.577953</td>\n",
              "      <td>-0.840484</td>\n",
              "      <td>-0.038680</td>\n",
              "      <td>0.046588</td>\n",
              "      <td>0.105777</td>\n",
              "      <td>-0.809117</td>\n",
              "      <td>-0.895587</td>\n",
              "      <td>0.184892</td>\n",
              "      <td>-0.257371</td>\n",
              "      <td>0.276693</td>\n",
              "      <td>0.180698</td>\n",
              "      <td>-0.379342</td>\n",
              "      <td>0.661277</td>\n",
              "      <td>0.510827</td>\n",
              "      <td>0.612157</td>\n",
              "      <td>-0.891416</td>\n",
              "      <td>0.036727</td>\n",
              "      <td>0.561361</td>\n",
              "      <td>1.374854</td>\n",
              "      <td>0.579001</td>\n",
              "      <td>0.427906</td>\n",
              "      <td>-0.809587</td>\n",
              "      <td>0.350735</td>\n",
              "      <td>0.326767</td>\n",
              "      <td>0.414069</td>\n",
              "      <td>-1.104549</td>\n",
              "      <td>-0.318409</td>\n",
              "      <td>0</td>\n",
              "    </tr>\n",
              "    <tr>\n",
              "      <th>539</th>\n",
              "      <td>-1.827998</td>\n",
              "      <td>1.431228</td>\n",
              "      <td>-1.797089</td>\n",
              "      <td>-1.377937</td>\n",
              "      <td>-0.688901</td>\n",
              "      <td>0.294866</td>\n",
              "      <td>0.046713</td>\n",
              "      <td>-0.909990</td>\n",
              "      <td>0.822855</td>\n",
              "      <td>2.085634</td>\n",
              "      <td>-0.669769</td>\n",
              "      <td>0.475624</td>\n",
              "      <td>-0.703468</td>\n",
              "      <td>-0.629405</td>\n",
              "      <td>2.809788</td>\n",
              "      <td>2.184826</td>\n",
              "      <td>2.010187</td>\n",
              "      <td>0.299092</td>\n",
              "      <td>0.061472</td>\n",
              "      <td>1.420748</td>\n",
              "      <td>-1.572003</td>\n",
              "      <td>1.011712</td>\n",
              "      <td>-1.571835</td>\n",
              "      <td>-1.154919</td>\n",
              "      <td>1.193713</td>\n",
              "      <td>0.331651</td>\n",
              "      <td>0.321969</td>\n",
              "      <td>-0.983733</td>\n",
              "      <td>-0.179178</td>\n",
              "      <td>1.255400</td>\n",
              "      <td>1</td>\n",
              "    </tr>\n",
              "    <tr>\n",
              "      <th>277</th>\n",
              "      <td>1.329956</td>\n",
              "      <td>0.160649</td>\n",
              "      <td>1.191672</td>\n",
              "      <td>1.271629</td>\n",
              "      <td>-0.507430</td>\n",
              "      <td>-0.862311</td>\n",
              "      <td>-0.107964</td>\n",
              "      <td>0.245323</td>\n",
              "      <td>-0.955155</td>\n",
              "      <td>-1.819865</td>\n",
              "      <td>-0.277447</td>\n",
              "      <td>-0.705514</td>\n",
              "      <td>-0.249030</td>\n",
              "      <td>-0.079142</td>\n",
              "      <td>0.176681</td>\n",
              "      <td>-0.801352</td>\n",
              "      <td>-0.187792</td>\n",
              "      <td>0.459680</td>\n",
              "      <td>-0.150416</td>\n",
              "      <td>-0.801478</td>\n",
              "      <td>0.764302</td>\n",
              "      <td>-0.224272</td>\n",
              "      <td>0.647508</td>\n",
              "      <td>0.624792</td>\n",
              "      <td>-0.353694</td>\n",
              "      <td>-0.879559</td>\n",
              "      <td>-0.245578</td>\n",
              "      <td>0.225259</td>\n",
              "      <td>-0.539944</td>\n",
              "      <td>-1.472721</td>\n",
              "      <td>0</td>\n",
              "    </tr>\n",
              "    <tr>\n",
              "      <th>...</th>\n",
              "      <td>...</td>\n",
              "      <td>...</td>\n",
              "      <td>...</td>\n",
              "      <td>...</td>\n",
              "      <td>...</td>\n",
              "      <td>...</td>\n",
              "      <td>...</td>\n",
              "      <td>...</td>\n",
              "      <td>...</td>\n",
              "      <td>...</td>\n",
              "      <td>...</td>\n",
              "      <td>...</td>\n",
              "      <td>...</td>\n",
              "      <td>...</td>\n",
              "      <td>...</td>\n",
              "      <td>...</td>\n",
              "      <td>...</td>\n",
              "      <td>...</td>\n",
              "      <td>...</td>\n",
              "      <td>...</td>\n",
              "      <td>...</td>\n",
              "      <td>...</td>\n",
              "      <td>...</td>\n",
              "      <td>...</td>\n",
              "      <td>...</td>\n",
              "      <td>...</td>\n",
              "      <td>...</td>\n",
              "      <td>...</td>\n",
              "      <td>...</td>\n",
              "      <td>...</td>\n",
              "      <td>...</td>\n",
              "    </tr>\n",
              "    <tr>\n",
              "      <th>317</th>\n",
              "      <td>1.162387</td>\n",
              "      <td>-0.097655</td>\n",
              "      <td>1.101054</td>\n",
              "      <td>1.058322</td>\n",
              "      <td>0.078262</td>\n",
              "      <td>0.139464</td>\n",
              "      <td>0.303839</td>\n",
              "      <td>0.788802</td>\n",
              "      <td>-0.016862</td>\n",
              "      <td>-0.872905</td>\n",
              "      <td>-0.003869</td>\n",
              "      <td>-1.209357</td>\n",
              "      <td>-0.157944</td>\n",
              "      <td>0.188399</td>\n",
              "      <td>-0.740023</td>\n",
              "      <td>-0.496754</td>\n",
              "      <td>-0.259080</td>\n",
              "      <td>-0.059391</td>\n",
              "      <td>-0.943480</td>\n",
              "      <td>-0.508333</td>\n",
              "      <td>1.153617</td>\n",
              "      <td>-0.110282</td>\n",
              "      <td>1.001959</td>\n",
              "      <td>1.062512</td>\n",
              "      <td>0.483572</td>\n",
              "      <td>0.140173</td>\n",
              "      <td>0.542655</td>\n",
              "      <td>0.959181</td>\n",
              "      <td>-0.143587</td>\n",
              "      <td>-0.108937</td>\n",
              "      <td>0</td>\n",
              "    </tr>\n",
              "    <tr>\n",
              "      <th>410</th>\n",
              "      <td>-0.785950</td>\n",
              "      <td>-0.400174</td>\n",
              "      <td>-0.802345</td>\n",
              "      <td>-0.725500</td>\n",
              "      <td>-0.553687</td>\n",
              "      <td>-0.970524</td>\n",
              "      <td>-0.765468</td>\n",
              "      <td>-0.720146</td>\n",
              "      <td>-0.768957</td>\n",
              "      <td>-0.519922</td>\n",
              "      <td>-0.770826</td>\n",
              "      <td>0.613514</td>\n",
              "      <td>-0.746040</td>\n",
              "      <td>-0.586941</td>\n",
              "      <td>-0.550015</td>\n",
              "      <td>-0.868028</td>\n",
              "      <td>-0.671885</td>\n",
              "      <td>-0.960952</td>\n",
              "      <td>-0.863568</td>\n",
              "      <td>-0.807909</td>\n",
              "      <td>-0.666638</td>\n",
              "      <td>1.733110</td>\n",
              "      <td>-0.660984</td>\n",
              "      <td>-0.631588</td>\n",
              "      <td>0.566860</td>\n",
              "      <td>-0.585662</td>\n",
              "      <td>-0.436999</td>\n",
              "      <td>-0.420653</td>\n",
              "      <td>0.116875</td>\n",
              "      <td>-0.359971</td>\n",
              "      <td>1</td>\n",
              "    </tr>\n",
              "    <tr>\n",
              "      <th>422</th>\n",
              "      <td>-0.714947</td>\n",
              "      <td>-0.760869</td>\n",
              "      <td>-0.680010</td>\n",
              "      <td>-0.701609</td>\n",
              "      <td>0.885278</td>\n",
              "      <td>0.236117</td>\n",
              "      <td>-0.223847</td>\n",
              "      <td>-0.101864</td>\n",
              "      <td>0.271562</td>\n",
              "      <td>0.057043</td>\n",
              "      <td>-0.575929</td>\n",
              "      <td>-0.876244</td>\n",
              "      <td>-0.593571</td>\n",
              "      <td>-0.537878</td>\n",
              "      <td>-0.385675</td>\n",
              "      <td>-0.303376</td>\n",
              "      <td>-0.185139</td>\n",
              "      <td>0.201767</td>\n",
              "      <td>-0.249700</td>\n",
              "      <td>-0.685733</td>\n",
              "      <td>-0.751542</td>\n",
              "      <td>-0.978239</td>\n",
              "      <td>-0.754511</td>\n",
              "      <td>-0.711749</td>\n",
              "      <td>0.400283</td>\n",
              "      <td>-0.237058</td>\n",
              "      <td>-0.201441</td>\n",
              "      <td>-0.062524</td>\n",
              "      <td>-0.184032</td>\n",
              "      <td>-0.536193</td>\n",
              "      <td>1</td>\n",
              "    </tr>\n",
              "    <tr>\n",
              "      <th>248</th>\n",
              "      <td>-0.987600</td>\n",
              "      <td>1.380033</td>\n",
              "      <td>-0.986877</td>\n",
              "      <td>-0.875668</td>\n",
              "      <td>0.014925</td>\n",
              "      <td>-0.606466</td>\n",
              "      <td>-0.816190</td>\n",
              "      <td>-0.845247</td>\n",
              "      <td>0.311723</td>\n",
              "      <td>0.069801</td>\n",
              "      <td>-0.561131</td>\n",
              "      <td>0.501025</td>\n",
              "      <td>-0.677726</td>\n",
              "      <td>-0.521376</td>\n",
              "      <td>0.049342</td>\n",
              "      <td>-0.845505</td>\n",
              "      <td>-0.699073</td>\n",
              "      <td>-0.900448</td>\n",
              "      <td>0.125643</td>\n",
              "      <td>-0.444787</td>\n",
              "      <td>-0.832304</td>\n",
              "      <td>1.549097</td>\n",
              "      <td>-0.872165</td>\n",
              "      <td>-0.746907</td>\n",
              "      <td>0.768505</td>\n",
              "      <td>-0.728158</td>\n",
              "      <td>-0.766109</td>\n",
              "      <td>-0.810759</td>\n",
              "      <td>0.822228</td>\n",
              "      <td>-0.137199</td>\n",
              "      <td>1</td>\n",
              "    </tr>\n",
              "    <tr>\n",
              "      <th>254</th>\n",
              "      <td>1.511725</td>\n",
              "      <td>0.009390</td>\n",
              "      <td>1.422337</td>\n",
              "      <td>1.462184</td>\n",
              "      <td>0.508101</td>\n",
              "      <td>0.274020</td>\n",
              "      <td>0.616458</td>\n",
              "      <td>0.954141</td>\n",
              "      <td>-0.130042</td>\n",
              "      <td>-0.897005</td>\n",
              "      <td>0.688377</td>\n",
              "      <td>-1.057134</td>\n",
              "      <td>0.460844</td>\n",
              "      <td>0.674637</td>\n",
              "      <td>-0.797359</td>\n",
              "      <td>-0.417950</td>\n",
              "      <td>-0.146014</td>\n",
              "      <td>0.141749</td>\n",
              "      <td>-0.834509</td>\n",
              "      <td>-0.470887</td>\n",
              "      <td>1.952956</td>\n",
              "      <td>-0.180304</td>\n",
              "      <td>1.663205</td>\n",
              "      <td>1.918616</td>\n",
              "      <td>0.759738</td>\n",
              "      <td>0.393357</td>\n",
              "      <td>0.765260</td>\n",
              "      <td>1.298734</td>\n",
              "      <td>0.773694</td>\n",
              "      <td>0.307790</td>\n",
              "      <td>0</td>\n",
              "    </tr>\n",
              "  </tbody>\n",
              "</table>\n",
              "<p>569 rows × 31 columns</p>\n",
              "</div>"
            ],
            "text/plain": [
              "     mean radius  mean texture  ...  worst fractal dimension  label\n",
              "415    -0.635423      0.437570  ...                -0.578309      1\n",
              "276    -0.794471     -1.193704  ...                -1.113072      1\n",
              "566     0.702284      2.045574  ...                -0.318409      0\n",
              "539    -1.827998      1.431228  ...                 1.255400      1\n",
              "277     1.329956      0.160649  ...                -1.472721      0\n",
              "..           ...           ...  ...                      ...    ...\n",
              "317     1.162387     -0.097655  ...                -0.108937      0\n",
              "410    -0.785950     -0.400174  ...                -0.359971      1\n",
              "422    -0.714947     -0.760869  ...                -0.536193      1\n",
              "248    -0.987600      1.380033  ...                -0.137199      1\n",
              "254     1.511725      0.009390  ...                 0.307790      0\n",
              "\n",
              "[569 rows x 31 columns]"
            ]
          },
          "metadata": {},
          "execution_count": 18
        }
      ]
    },
    {
      "cell_type": "code",
      "metadata": {
        "id": "9rRMD-z_ZlZi"
      },
      "source": [
        "#500 Training\n",
        "X_train = feature[:500]\n",
        "y_train = label[:500]\n",
        "\n",
        "#35 Validation\n",
        "X_val = feature[500:535]\n",
        "y_val = label[500:535]\n",
        "\n",
        "#34 Testing\n",
        "X_test = feature[535:]\n",
        "y_test = label[535:]"
      ],
      "execution_count": 19,
      "outputs": []
    },
    {
      "cell_type": "code",
      "metadata": {
        "id": "1QDJMwf8Zq4J"
      },
      "source": [
        "model = Sequential()\n",
        "\n",
        "model.add(Dense(32, activation = 'relu', input_dim = 30))\n",
        "model.add(Dense(64, activation = 'relu'))\n",
        "model.add(Dense(128, activation = 'relu'))\n",
        "model.add(Dense(64, activation = 'relu'))\n",
        "model.add(Dense(32, activation = 'relu'))\n",
        "model.add(Dense(1, activation = 'sigmoid'))\n",
        "\n",
        "model.compile( loss = 'binary_crossentropy' , optimizer = 'adam' , metrics = ['accuracy'])"
      ],
      "execution_count": 20,
      "outputs": []
    },
    {
      "cell_type": "code",
      "metadata": {
        "colab": {
          "base_uri": "https://localhost:8080/"
        },
        "id": "AWu_woRxZvj3",
        "outputId": "b81331dc-6c15-4f38-d6f0-a2c87e74b1a3"
      },
      "source": [
        "model.fit( X_train , y_train, epochs = 10, batch_size = 1, validation_data = (X_val, y_val))\n"
      ],
      "execution_count": 21,
      "outputs": [
        {
          "output_type": "stream",
          "name": "stdout",
          "text": [
            "Epoch 1/10\n",
            "500/500 [==============================] - 2s 3ms/step - loss: 0.1788 - accuracy: 0.9420 - val_loss: 0.1998 - val_accuracy: 0.9143\n",
            "Epoch 2/10\n",
            "500/500 [==============================] - 1s 2ms/step - loss: 0.0818 - accuracy: 0.9740 - val_loss: 0.1924 - val_accuracy: 0.9143\n",
            "Epoch 3/10\n",
            "500/500 [==============================] - 1s 2ms/step - loss: 0.0764 - accuracy: 0.9820 - val_loss: 0.1949 - val_accuracy: 0.8571\n",
            "Epoch 4/10\n",
            "500/500 [==============================] - 1s 2ms/step - loss: 0.0493 - accuracy: 0.9860 - val_loss: 0.1312 - val_accuracy: 0.9429\n",
            "Epoch 5/10\n",
            "500/500 [==============================] - 1s 2ms/step - loss: 0.0426 - accuracy: 0.9880 - val_loss: 0.2581 - val_accuracy: 0.9143\n",
            "Epoch 6/10\n",
            "500/500 [==============================] - 1s 2ms/step - loss: 0.0593 - accuracy: 0.9800 - val_loss: 0.1330 - val_accuracy: 0.9143\n",
            "Epoch 7/10\n",
            "500/500 [==============================] - 1s 2ms/step - loss: 0.0291 - accuracy: 0.9880 - val_loss: 0.1469 - val_accuracy: 0.9429\n",
            "Epoch 8/10\n",
            "500/500 [==============================] - 1s 2ms/step - loss: 0.0245 - accuracy: 0.9920 - val_loss: 0.0481 - val_accuracy: 1.0000\n",
            "Epoch 9/10\n",
            "500/500 [==============================] - 1s 2ms/step - loss: 0.0236 - accuracy: 0.9920 - val_loss: 0.2825 - val_accuracy: 0.9143\n",
            "Epoch 10/10\n",
            "500/500 [==============================] - 1s 2ms/step - loss: 0.0249 - accuracy: 0.9880 - val_loss: 0.0876 - val_accuracy: 0.9714\n"
          ]
        },
        {
          "output_type": "execute_result",
          "data": {
            "text/plain": [
              "<keras.callbacks.History at 0x7fc5a80c38d0>"
            ]
          },
          "metadata": {},
          "execution_count": 21
        }
      ]
    },
    {
      "cell_type": "code",
      "metadata": {
        "colab": {
          "base_uri": "https://localhost:8080/"
        },
        "id": "pvBmEUpDZ0GK",
        "outputId": "d6819237-0d34-44d0-bf44-81ad5aeb9187"
      },
      "source": [
        "model.evaluate(X_test , y_test)"
      ],
      "execution_count": 22,
      "outputs": [
        {
          "output_type": "stream",
          "name": "stdout",
          "text": [
            "2/2 [==============================] - 0s 7ms/step - loss: 0.0025 - accuracy: 1.0000\n"
          ]
        },
        {
          "output_type": "execute_result",
          "data": {
            "text/plain": [
              "[0.002486421726644039, 1.0]"
            ]
          },
          "metadata": {},
          "execution_count": 22
        }
      ]
    },
    {
      "cell_type": "code",
      "metadata": {
        "colab": {
          "base_uri": "https://localhost:8080/"
        },
        "id": "EmZ1wHDQZ8D_",
        "outputId": "d923db39-4345-4a0f-98ef-0f82dbf2096d"
      },
      "source": [
        "model.evaluate(X_val , y_val)"
      ],
      "execution_count": 23,
      "outputs": [
        {
          "output_type": "stream",
          "name": "stdout",
          "text": [
            "2/2 [==============================] - 0s 7ms/step - loss: 0.0876 - accuracy: 0.9714\n"
          ]
        },
        {
          "output_type": "execute_result",
          "data": {
            "text/plain": [
              "[0.08764564990997314, 0.9714285731315613]"
            ]
          },
          "metadata": {},
          "execution_count": 23
        }
      ]
    },
    {
      "cell_type": "code",
      "metadata": {
        "colab": {
          "base_uri": "https://localhost:8080/"
        },
        "id": "SGrb5zcMaEPU",
        "outputId": "3e85f945-422c-4ee8-a3e4-b5e149eaa893"
      },
      "source": [
        "for i in range(30):\n",
        "  sample = X_test[i]\n",
        "  sample = np.reshape(sample, (1,30))\n",
        "\n",
        "  if (model.predict(sample)[0][0] > 0.5):\n",
        "    print(\"-Benign\")\n",
        "  else:\n",
        "    print(\"-Malignant\")\n",
        "\n",
        "  if (y_test[i] == 1):\n",
        "    print(\"*Benign\")\n",
        "  else:\n",
        "    print(\"*Malignant\")\n",
        "  print(\"-----------\")"
      ],
      "execution_count": 24,
      "outputs": [
        {
          "output_type": "stream",
          "name": "stdout",
          "text": [
            "-Malignant\n",
            "*Malignant\n",
            "-----------\n",
            "-Benign\n",
            "*Benign\n",
            "-----------\n",
            "-Benign\n",
            "*Benign\n",
            "-----------\n",
            "-Benign\n",
            "*Benign\n",
            "-----------\n",
            "-Malignant\n",
            "*Malignant\n",
            "-----------\n",
            "-Benign\n",
            "*Benign\n",
            "-----------\n",
            "-Malignant\n",
            "*Malignant\n",
            "-----------\n",
            "-Benign\n",
            "*Benign\n",
            "-----------\n",
            "-Benign\n",
            "*Benign\n",
            "-----------\n",
            "-Malignant\n",
            "*Malignant\n",
            "-----------\n",
            "-Benign\n",
            "*Benign\n",
            "-----------\n",
            "-Malignant\n",
            "*Malignant\n",
            "-----------\n",
            "-Benign\n",
            "*Benign\n",
            "-----------\n",
            "-Malignant\n",
            "*Malignant\n",
            "-----------\n",
            "-Malignant\n",
            "*Malignant\n",
            "-----------\n",
            "-Malignant\n",
            "*Malignant\n",
            "-----------\n",
            "-Benign\n",
            "*Benign\n",
            "-----------\n",
            "-Benign\n",
            "*Benign\n",
            "-----------\n",
            "-Benign\n",
            "*Benign\n",
            "-----------\n",
            "-Benign\n",
            "*Benign\n",
            "-----------\n",
            "-Benign\n",
            "*Benign\n",
            "-----------\n",
            "-Benign\n",
            "*Benign\n",
            "-----------\n",
            "-Malignant\n",
            "*Malignant\n",
            "-----------\n",
            "-Benign\n",
            "*Benign\n",
            "-----------\n",
            "-Benign\n",
            "*Benign\n",
            "-----------\n",
            "-Benign\n",
            "*Benign\n",
            "-----------\n",
            "-Benign\n",
            "*Benign\n",
            "-----------\n",
            "-Malignant\n",
            "*Malignant\n",
            "-----------\n",
            "-Malignant\n",
            "*Malignant\n",
            "-----------\n",
            "-Malignant\n",
            "*Malignant\n",
            "-----------\n"
          ]
        }
      ]
    },
    {
      "cell_type": "code",
      "metadata": {
        "id": "iQpC8DlKbvhf"
      },
      "source": [
        ""
      ],
      "execution_count": 27,
      "outputs": []
    }
  ]
}